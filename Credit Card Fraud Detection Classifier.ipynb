{
  "cells": [
    {
      "cell_type": "markdown",
      "metadata": {},
      "source": [
        "Author: Harshal Bhasgauri"
      ]
    },
    {
      "cell_type": "markdown",
      "metadata": {
        "id": "ykzKA4-9oNoc"
      },
      "source": [
        "importing libraries"
      ]
    },
    {
      "cell_type": "code",
      "execution_count": 1,
      "metadata": {
        "id": "VVJCoJbnlhX6"
      },
      "outputs": [],
      "source": [
        "import pandas as pd\n",
        "import numpy as np\n",
        "import matplotlib.pyplot as plt\n",
        "import seaborn as sns\n",
        "import torch\n",
        "from torch.utils.data import DataLoader, TensorDataset\n",
        "from sklearn.preprocessing import StandardScaler\n"
      ]
    },
    {
      "cell_type": "code",
      "execution_count": 5,
      "metadata": {
        "id": "FClWBXl4mlpR"
      },
      "outputs": [],
      "source": [
        "df = pd.read_csv('CreditCardDataset.csv')"
      ]
    },
    {
      "cell_type": "markdown",
      "metadata": {
        "id": "AtJ15xLVuE7S"
      },
      "source": [
        "##1) Perform EDA"
      ]
    },
    {
      "cell_type": "code",
      "execution_count": 6,
      "metadata": {
        "colab": {
          "base_uri": "https://localhost:8080/",
          "height": 299
        },
        "id": "mEQCBGBCmzux",
        "outputId": "66c5f044-c5f4-4836-a4bd-3f3663ba4eba"
      },
      "outputs": [
        {
          "data": {
            "text/html": [
              "\n",
              "  <div id=\"df-514de2c8-7c18-45f6-8c65-56845efbd1c5\">\n",
              "    <div class=\"colab-df-container\">\n",
              "      <div>\n",
              "<style scoped>\n",
              "    .dataframe tbody tr th:only-of-type {\n",
              "        vertical-align: middle;\n",
              "    }\n",
              "\n",
              "    .dataframe tbody tr th {\n",
              "        vertical-align: top;\n",
              "    }\n",
              "\n",
              "    .dataframe thead th {\n",
              "        text-align: right;\n",
              "    }\n",
              "</style>\n",
              "<table border=\"1\" class=\"dataframe\">\n",
              "  <thead>\n",
              "    <tr style=\"text-align: right;\">\n",
              "      <th></th>\n",
              "      <th>Time</th>\n",
              "      <th>V1</th>\n",
              "      <th>V2</th>\n",
              "      <th>V3</th>\n",
              "      <th>V4</th>\n",
              "      <th>V5</th>\n",
              "      <th>V6</th>\n",
              "      <th>V7</th>\n",
              "      <th>V8</th>\n",
              "      <th>V9</th>\n",
              "      <th>...</th>\n",
              "      <th>V21</th>\n",
              "      <th>V22</th>\n",
              "      <th>V23</th>\n",
              "      <th>V24</th>\n",
              "      <th>V25</th>\n",
              "      <th>V26</th>\n",
              "      <th>V27</th>\n",
              "      <th>V28</th>\n",
              "      <th>Amount</th>\n",
              "      <th>Class</th>\n",
              "    </tr>\n",
              "  </thead>\n",
              "  <tbody>\n",
              "    <tr>\n",
              "      <th>0</th>\n",
              "      <td>2</td>\n",
              "      <td>-1.158233</td>\n",
              "      <td>0.877737</td>\n",
              "      <td>1.548718</td>\n",
              "      <td>0.403034</td>\n",
              "      <td>-0.407193</td>\n",
              "      <td>0.095921</td>\n",
              "      <td>0.592941</td>\n",
              "      <td>-0.270533</td>\n",
              "      <td>0.817739</td>\n",
              "      <td>...</td>\n",
              "      <td>-0.009431</td>\n",
              "      <td>0.798278</td>\n",
              "      <td>-0.137458</td>\n",
              "      <td>0.141267</td>\n",
              "      <td>-0.206010</td>\n",
              "      <td>0.502292</td>\n",
              "      <td>0.219422</td>\n",
              "      <td>0.215153</td>\n",
              "      <td>69.99</td>\n",
              "      <td>0</td>\n",
              "    </tr>\n",
              "    <tr>\n",
              "      <th>1</th>\n",
              "      <td>2</td>\n",
              "      <td>-0.425966</td>\n",
              "      <td>0.960523</td>\n",
              "      <td>1.141109</td>\n",
              "      <td>-0.168252</td>\n",
              "      <td>0.420987</td>\n",
              "      <td>-0.029728</td>\n",
              "      <td>0.476201</td>\n",
              "      <td>0.260314</td>\n",
              "      <td>-0.568671</td>\n",
              "      <td>...</td>\n",
              "      <td>-0.208254</td>\n",
              "      <td>-0.559825</td>\n",
              "      <td>-0.026398</td>\n",
              "      <td>-0.371427</td>\n",
              "      <td>-0.232794</td>\n",
              "      <td>0.105915</td>\n",
              "      <td>0.253844</td>\n",
              "      <td>0.081080</td>\n",
              "      <td>3.67</td>\n",
              "      <td>0</td>\n",
              "    </tr>\n",
              "    <tr>\n",
              "      <th>2</th>\n",
              "      <td>7</td>\n",
              "      <td>-0.644269</td>\n",
              "      <td>1.417964</td>\n",
              "      <td>1.074380</td>\n",
              "      <td>-0.492199</td>\n",
              "      <td>0.948934</td>\n",
              "      <td>0.428118</td>\n",
              "      <td>1.120631</td>\n",
              "      <td>-3.807864</td>\n",
              "      <td>0.615375</td>\n",
              "      <td>...</td>\n",
              "      <td>1.943465</td>\n",
              "      <td>-1.015455</td>\n",
              "      <td>0.057504</td>\n",
              "      <td>-0.649709</td>\n",
              "      <td>-0.415267</td>\n",
              "      <td>-0.051634</td>\n",
              "      <td>-1.206921</td>\n",
              "      <td>-1.085339</td>\n",
              "      <td>40.80</td>\n",
              "      <td>0</td>\n",
              "    </tr>\n",
              "    <tr>\n",
              "      <th>3</th>\n",
              "      <td>11</td>\n",
              "      <td>1.069374</td>\n",
              "      <td>0.287722</td>\n",
              "      <td>0.828613</td>\n",
              "      <td>2.712520</td>\n",
              "      <td>-0.178398</td>\n",
              "      <td>0.337544</td>\n",
              "      <td>-0.096717</td>\n",
              "      <td>0.115982</td>\n",
              "      <td>-0.221083</td>\n",
              "      <td>...</td>\n",
              "      <td>-0.036876</td>\n",
              "      <td>0.074412</td>\n",
              "      <td>-0.071407</td>\n",
              "      <td>0.104744</td>\n",
              "      <td>0.548265</td>\n",
              "      <td>0.104094</td>\n",
              "      <td>0.021491</td>\n",
              "      <td>0.021293</td>\n",
              "      <td>27.50</td>\n",
              "      <td>0</td>\n",
              "    </tr>\n",
              "    <tr>\n",
              "      <th>4</th>\n",
              "      <td>12</td>\n",
              "      <td>-0.752417</td>\n",
              "      <td>0.345485</td>\n",
              "      <td>2.057323</td>\n",
              "      <td>-1.468643</td>\n",
              "      <td>-1.158394</td>\n",
              "      <td>-0.077850</td>\n",
              "      <td>-0.608581</td>\n",
              "      <td>0.003603</td>\n",
              "      <td>-0.436167</td>\n",
              "      <td>...</td>\n",
              "      <td>0.499625</td>\n",
              "      <td>1.353650</td>\n",
              "      <td>-0.256573</td>\n",
              "      <td>-0.065084</td>\n",
              "      <td>-0.039124</td>\n",
              "      <td>-0.087086</td>\n",
              "      <td>-0.180998</td>\n",
              "      <td>0.129394</td>\n",
              "      <td>15.99</td>\n",
              "      <td>0</td>\n",
              "    </tr>\n",
              "  </tbody>\n",
              "</table>\n",
              "<p>5 rows × 31 columns</p>\n",
              "</div>\n",
              "      <button class=\"colab-df-convert\" onclick=\"convertToInteractive('df-514de2c8-7c18-45f6-8c65-56845efbd1c5')\"\n",
              "              title=\"Convert this dataframe to an interactive table.\"\n",
              "              style=\"display:none;\">\n",
              "        \n",
              "  <svg xmlns=\"http://www.w3.org/2000/svg\" height=\"24px\"viewBox=\"0 0 24 24\"\n",
              "       width=\"24px\">\n",
              "    <path d=\"M0 0h24v24H0V0z\" fill=\"none\"/>\n",
              "    <path d=\"M18.56 5.44l.94 2.06.94-2.06 2.06-.94-2.06-.94-.94-2.06-.94 2.06-2.06.94zm-11 1L8.5 8.5l.94-2.06 2.06-.94-2.06-.94L8.5 2.5l-.94 2.06-2.06.94zm10 10l.94 2.06.94-2.06 2.06-.94-2.06-.94-.94-2.06-.94 2.06-2.06.94z\"/><path d=\"M17.41 7.96l-1.37-1.37c-.4-.4-.92-.59-1.43-.59-.52 0-1.04.2-1.43.59L10.3 9.45l-7.72 7.72c-.78.78-.78 2.05 0 2.83L4 21.41c.39.39.9.59 1.41.59.51 0 1.02-.2 1.41-.59l7.78-7.78 2.81-2.81c.8-.78.8-2.07 0-2.86zM5.41 20L4 18.59l7.72-7.72 1.47 1.35L5.41 20z\"/>\n",
              "  </svg>\n",
              "      </button>\n",
              "      \n",
              "  <style>\n",
              "    .colab-df-container {\n",
              "      display:flex;\n",
              "      flex-wrap:wrap;\n",
              "      gap: 12px;\n",
              "    }\n",
              "\n",
              "    .colab-df-convert {\n",
              "      background-color: #E8F0FE;\n",
              "      border: none;\n",
              "      border-radius: 50%;\n",
              "      cursor: pointer;\n",
              "      display: none;\n",
              "      fill: #1967D2;\n",
              "      height: 32px;\n",
              "      padding: 0 0 0 0;\n",
              "      width: 32px;\n",
              "    }\n",
              "\n",
              "    .colab-df-convert:hover {\n",
              "      background-color: #E2EBFA;\n",
              "      box-shadow: 0px 1px 2px rgba(60, 64, 67, 0.3), 0px 1px 3px 1px rgba(60, 64, 67, 0.15);\n",
              "      fill: #174EA6;\n",
              "    }\n",
              "\n",
              "    [theme=dark] .colab-df-convert {\n",
              "      background-color: #3B4455;\n",
              "      fill: #D2E3FC;\n",
              "    }\n",
              "\n",
              "    [theme=dark] .colab-df-convert:hover {\n",
              "      background-color: #434B5C;\n",
              "      box-shadow: 0px 1px 3px 1px rgba(0, 0, 0, 0.15);\n",
              "      filter: drop-shadow(0px 1px 2px rgba(0, 0, 0, 0.3));\n",
              "      fill: #FFFFFF;\n",
              "    }\n",
              "  </style>\n",
              "\n",
              "      <script>\n",
              "        const buttonEl =\n",
              "          document.querySelector('#df-514de2c8-7c18-45f6-8c65-56845efbd1c5 button.colab-df-convert');\n",
              "        buttonEl.style.display =\n",
              "          google.colab.kernel.accessAllowed ? 'block' : 'none';\n",
              "\n",
              "        async function convertToInteractive(key) {\n",
              "          const element = document.querySelector('#df-514de2c8-7c18-45f6-8c65-56845efbd1c5');\n",
              "          const dataTable =\n",
              "            await google.colab.kernel.invokeFunction('convertToInteractive',\n",
              "                                                     [key], {});\n",
              "          if (!dataTable) return;\n",
              "\n",
              "          const docLinkHtml = 'Like what you see? Visit the ' +\n",
              "            '<a target=\"_blank\" href=https://colab.research.google.com/notebooks/data_table.ipynb>data table notebook</a>'\n",
              "            + ' to learn more about interactive tables.';\n",
              "          element.innerHTML = '';\n",
              "          dataTable['output_type'] = 'display_data';\n",
              "          await google.colab.output.renderOutput(dataTable, element);\n",
              "          const docLink = document.createElement('div');\n",
              "          docLink.innerHTML = docLinkHtml;\n",
              "          element.appendChild(docLink);\n",
              "        }\n",
              "      </script>\n",
              "    </div>\n",
              "  </div>\n",
              "  "
            ],
            "text/plain": [
              "   Time        V1        V2        V3        V4        V5        V6        V7  \\\n",
              "0     2 -1.158233  0.877737  1.548718  0.403034 -0.407193  0.095921  0.592941   \n",
              "1     2 -0.425966  0.960523  1.141109 -0.168252  0.420987 -0.029728  0.476201   \n",
              "2     7 -0.644269  1.417964  1.074380 -0.492199  0.948934  0.428118  1.120631   \n",
              "3    11  1.069374  0.287722  0.828613  2.712520 -0.178398  0.337544 -0.096717   \n",
              "4    12 -0.752417  0.345485  2.057323 -1.468643 -1.158394 -0.077850 -0.608581   \n",
              "\n",
              "         V8        V9  ...       V21       V22       V23       V24       V25  \\\n",
              "0 -0.270533  0.817739  ... -0.009431  0.798278 -0.137458  0.141267 -0.206010   \n",
              "1  0.260314 -0.568671  ... -0.208254 -0.559825 -0.026398 -0.371427 -0.232794   \n",
              "2 -3.807864  0.615375  ...  1.943465 -1.015455  0.057504 -0.649709 -0.415267   \n",
              "3  0.115982 -0.221083  ... -0.036876  0.074412 -0.071407  0.104744  0.548265   \n",
              "4  0.003603 -0.436167  ...  0.499625  1.353650 -0.256573 -0.065084 -0.039124   \n",
              "\n",
              "        V26       V27       V28  Amount  Class  \n",
              "0  0.502292  0.219422  0.215153   69.99      0  \n",
              "1  0.105915  0.253844  0.081080    3.67      0  \n",
              "2 -0.051634 -1.206921 -1.085339   40.80      0  \n",
              "3  0.104094  0.021491  0.021293   27.50      0  \n",
              "4 -0.087086 -0.180998  0.129394   15.99      0  \n",
              "\n",
              "[5 rows x 31 columns]"
            ]
          },
          "execution_count": 6,
          "metadata": {},
          "output_type": "execute_result"
        }
      ],
      "source": [
        "df.head()"
      ]
    },
    {
      "cell_type": "markdown",
      "metadata": {
        "id": "50DQdoA8oczY"
      },
      "source": [
        "the dataset has 31 columns including the target variable, Class. The target variable Class takes the value 1 in case of fraud and 0 otherwise."
      ]
    },
    {
      "cell_type": "code",
      "execution_count": 11,
      "metadata": {
        "colab": {
          "base_uri": "https://localhost:8080/",
          "height": 404
        },
        "id": "q8KR2UiXm9jj",
        "outputId": "dbd62d0f-595d-4420-fff7-57d225e580f9"
      },
      "outputs": [
        {
          "data": {
            "image/png": "[encoded data removed]",
            "text/plain": [
              "<Figure size 576x432 with 1 Axes>"
            ]
          },
          "metadata": {
            "needs_background": "light"
          },
          "output_type": "display_data"
        }
      ],
      "source": [
        "#checking distribution of 'Class'\n",
        "plt.figure(figsize=(8,6))\n",
        "sns.countplot(x='Class', data=df)\n",
        "plt.title('Distribution of target variable')\n",
        "plt.show()"
      ]
    },
    {
      "cell_type": "markdown",
      "metadata": {
        "id": "LKZvzMZAov3V"
      },
      "source": [
        "I can see that the dataset is heavily imbalanced, with a very small number of fraud cases compared to non-fraud cases. "
      ]
    },
    {
      "cell_type": "markdown",
      "metadata": {
        "id": "RTlaiE7Mozrb"
      },
      "source": [
        "Using undersampling to handle heavy imbalance"
      ]
    },
    {
      "cell_type": "code",
      "execution_count": 8,
      "metadata": {
        "id": "LMybw95RnAwk"
      },
      "outputs": [],
      "source": [
        "fraud_indices = df[df.Class == 1].index\n",
        "non_fraud_indices = df[df.Class == 0].index\n",
        "\n",
        "random_non_fraud_indices = np.random.choice(non_fraud_indices, len(fraud_indices), replace=False)\n",
        "\n",
        "undersampled_indices = np.concatenate([fraud_indices, random_non_fraud_indices])\n",
        "undersampled_df = df.loc[undersampled_indices]"
      ]
    },
    {
      "cell_type": "code",
      "execution_count": 12,
      "metadata": {
        "colab": {
          "base_uri": "https://localhost:8080/",
          "height": 404
        },
        "id": "zrfPxfvfnIdX",
        "outputId": "4dcfa15c-c882-413c-f58f-feb9abf28b8d"
      },
      "outputs": [
        {
          "data": {
            "image/png": "[encoded data removed]",
            "text/plain": [
              "<Figure size 576x432 with 1 Axes>"
            ]
          },
          "metadata": {
            "needs_background": "light"
          },
          "output_type": "display_data"
        }
      ],
      "source": [
        "#checking distribution of 'Class' again\n",
        "plt.figure(figsize=(8,6))\n",
        "sns.countplot(x='Class', data=undersampled_df)\n",
        "plt.title('Distribution of target variable')\n",
        "plt.show()"
      ]
    },
    {
      "cell_type": "markdown",
      "metadata": {
        "id": "lj8AgWz6pYbw"
      },
      "source": [
        "class distribution is handled."
      ]
    },
    {
      "cell_type": "markdown",
      "metadata": {
        "id": "5Xbf9AccplhZ"
      },
      "source": [
        "##2) implementing a neural network using the PyTorch framework.\n",
        ">creating a DataLoader object to load the data into the model."
      ]
    },
    {
      "cell_type": "code",
      "execution_count": 13,
      "metadata": {
        "id": "E8RA1amznKeZ"
      },
      "outputs": [],
      "source": [
        "# Splitting the data into training and testing sets\n",
        "X = undersampled_df.drop('Class', axis=1).values\n",
        "y = undersampled_df['Class'].values\n",
        "# Standardizing the data\n",
        "scaler = StandardScaler()\n",
        "X = scaler.fit_transform(X)\n",
        "# Converting the data to PyTorch tensors\n",
        "X = torch.tensor(X, dtype=torch.float32)\n",
        "y = torch.tensor(y, dtype=torch.float32)\n",
        "# Creating a TensorDataset\n",
        "dataset = TensorDataset(X, y)\n",
        "# Splitting the dataset into training and validation sets\n",
        "train_size = int(0.8 * len(dataset))\n",
        "val_size = len(dataset) - train_size\n",
        "\n",
        "train_dataset, val_dataset = torch.utils.data.random_split(dataset, [train_size, val_size])\n",
        "# Creating a DataLoader for training and validation sets\n",
        "batch_size = 128\n",
        "\n",
        "train_loader = DataLoader(train_dataset, batch_size=batch_size, shuffle=True)\n",
        "val_loader = DataLoader(val_dataset, batch_size=batch_size, shuffle=True)\n"
      ]
    },
    {
      "cell_type": "markdown",
      "metadata": {
        "id": "I_o-HhKmqAQj"
      },
      "source": [
        "> defining our neural network architecture. Here I am using a simple feedforward neural network with two hidden layer."
      ]
    },
    {
      "cell_type": "code",
      "execution_count": 14,
      "metadata": {
        "id": "aF2ZS4_Ip8L4"
      },
      "outputs": [],
      "source": [
        "class Net(torch.nn.Module):\n",
        "    def __init__(self):\n",
        "        super(Net, self).__init__()\n",
        "        self.fc1 = torch.nn.Linear(30, 128)\n",
        "        self.fc2 = torch.nn.Linear(128, 64)\n",
        "        self.fc3 = torch.nn.Linear(64, 1)\n",
        "        self.dropout = torch.nn.Dropout(p=0.5)\n",
        "        self.relu = torch.nn.ReLU()\n",
        "\n",
        "    def forward(self, x):\n",
        "        x = self.relu(self.fc1(x))\n",
        "        x = self.dropout(x)\n",
        "        x = self.relu(self.fc2(x))\n",
        "        x = self.dropout(x)\n",
        "        x = torch.sigmoid(self.fc3(x))\n",
        "        return x\n",
        "\n",
        "model = Net()"
      ]
    },
    {
      "cell_type": "markdown",
      "metadata": {
        "id": "68cSgSHeqglr"
      },
      "source": [
        ">defining the loss function and optimizer for my model."
      ]
    },
    {
      "cell_type": "code",
      "execution_count": 15,
      "metadata": {
        "id": "I2eziBdNqd2R"
      },
      "outputs": [],
      "source": [
        "criterion = torch.nn.BCELoss()\n",
        "optimizer = torch.optim.Adam(model.parameters(), lr=0.001)"
      ]
    },
    {
      "cell_type": "markdown",
      "metadata": {
        "id": "j11WJdBgqu1L"
      },
      "source": [
        ">defining a function that takes in my model, data loaders, loss function, and optimizer, and trains the model for a specified number of epochs."
      ]
    },
    {
      "cell_type": "code",
      "execution_count": 18,
      "metadata": {
        "colab": {
          "base_uri": "https://localhost:8080/"
        },
        "id": "5kYr5UhVqn0D",
        "outputId": "3aad6402-a170-4857-96eb-a38267c83be6"
      },
      "outputs": [
        {
          "name": "stdout",
          "output_type": "stream",
          "text": [
            "Epoch: 1 \tTraining Loss: 0.675079 \tTraining Accuracy: 0.580686 \tValidation Loss: 0.609563 \tValidation Accuracy: 0.903553\n",
            "Epoch: 2 \tTraining Loss: 0.583117 \tTraining Accuracy: 0.836086 \tValidation Loss: 0.528534 \tValidation Accuracy: 0.913706\n",
            "Epoch: 3 \tTraining Loss: 0.508625 \tTraining Accuracy: 0.865311 \tValidation Loss: 0.441584 \tValidation Accuracy: 0.918782\n",
            "Epoch: 4 \tTraining Loss: 0.422886 \tTraining Accuracy: 0.886912 \tValidation Loss: 0.360928 \tValidation Accuracy: 0.918782\n",
            "Epoch: 5 \tTraining Loss: 0.356966 \tTraining Accuracy: 0.898348 \tValidation Loss: 0.296719 \tValidation Accuracy: 0.918782\n",
            "Epoch: 6 \tTraining Loss: 0.312909 \tTraining Accuracy: 0.893266 \tValidation Loss: 0.253979 \tValidation Accuracy: 0.928934\n",
            "Epoch: 7 \tTraining Loss: 0.273724 \tTraining Accuracy: 0.908513 \tValidation Loss: 0.224697 \tValidation Accuracy: 0.923858\n",
            "Epoch: 8 \tTraining Loss: 0.257007 \tTraining Accuracy: 0.900889 \tValidation Loss: 0.204609 \tValidation Accuracy: 0.939086\n",
            "Epoch: 9 \tTraining Loss: 0.233176 \tTraining Accuracy: 0.919949 \tValidation Loss: 0.189265 \tValidation Accuracy: 0.939086\n",
            "Epoch: 10 \tTraining Loss: 0.216760 \tTraining Accuracy: 0.927573 \tValidation Loss: 0.179278 \tValidation Accuracy: 0.949239\n",
            "Epoch: 11 \tTraining Loss: 0.217736 \tTraining Accuracy: 0.923761 \tValidation Loss: 0.172512 \tValidation Accuracy: 0.949239\n",
            "Epoch: 12 \tTraining Loss: 0.212518 \tTraining Accuracy: 0.918679 \tValidation Loss: 0.166510 \tValidation Accuracy: 0.954315\n",
            "Epoch: 13 \tTraining Loss: 0.218635 \tTraining Accuracy: 0.923761 \tValidation Loss: 0.164073 \tValidation Accuracy: 0.954315\n",
            "Epoch: 14 \tTraining Loss: 0.206637 \tTraining Accuracy: 0.921220 \tValidation Loss: 0.160265 \tValidation Accuracy: 0.954315\n",
            "Epoch: 15 \tTraining Loss: 0.181967 \tTraining Accuracy: 0.935197 \tValidation Loss: 0.156903 \tValidation Accuracy: 0.954315\n",
            "Epoch: 16 \tTraining Loss: 0.188978 \tTraining Accuracy: 0.930114 \tValidation Loss: 0.155074 \tValidation Accuracy: 0.954315\n",
            "Epoch: 17 \tTraining Loss: 0.183664 \tTraining Accuracy: 0.931385 \tValidation Loss: 0.153663 \tValidation Accuracy: 0.954315\n",
            "Epoch: 18 \tTraining Loss: 0.185576 \tTraining Accuracy: 0.937738 \tValidation Loss: 0.152051 \tValidation Accuracy: 0.954315\n",
            "Epoch: 19 \tTraining Loss: 0.183483 \tTraining Accuracy: 0.940280 \tValidation Loss: 0.151232 \tValidation Accuracy: 0.954315\n",
            "Epoch: 20 \tTraining Loss: 0.190183 \tTraining Accuracy: 0.935197 \tValidation Loss: 0.151387 \tValidation Accuracy: 0.954315\n",
            "Epoch: 21 \tTraining Loss: 0.157871 \tTraining Accuracy: 0.941550 \tValidation Loss: 0.154405 \tValidation Accuracy: 0.949239\n",
            "Epoch: 22 \tTraining Loss: 0.172486 \tTraining Accuracy: 0.947903 \tValidation Loss: 0.152105 \tValidation Accuracy: 0.949239\n",
            "Epoch: 23 \tTraining Loss: 0.164134 \tTraining Accuracy: 0.942821 \tValidation Loss: 0.149849 \tValidation Accuracy: 0.954315\n",
            "Epoch: 24 \tTraining Loss: 0.178009 \tTraining Accuracy: 0.942821 \tValidation Loss: 0.150328 \tValidation Accuracy: 0.954315\n",
            "Epoch: 25 \tTraining Loss: 0.156665 \tTraining Accuracy: 0.944091 \tValidation Loss: 0.150857 \tValidation Accuracy: 0.949239\n",
            "Epoch: 26 \tTraining Loss: 0.170849 \tTraining Accuracy: 0.933926 \tValidation Loss: 0.150580 \tValidation Accuracy: 0.949239\n",
            "Epoch: 27 \tTraining Loss: 0.177509 \tTraining Accuracy: 0.944091 \tValidation Loss: 0.150699 \tValidation Accuracy: 0.949239\n",
            "Epoch: 28 \tTraining Loss: 0.155281 \tTraining Accuracy: 0.940280 \tValidation Loss: 0.152544 \tValidation Accuracy: 0.949239\n",
            "Epoch: 29 \tTraining Loss: 0.168960 \tTraining Accuracy: 0.940280 \tValidation Loss: 0.150408 \tValidation Accuracy: 0.949239\n",
            "Epoch: 30 \tTraining Loss: 0.148079 \tTraining Accuracy: 0.951715 \tValidation Loss: 0.150099 \tValidation Accuracy: 0.949239\n",
            "Epoch: 31 \tTraining Loss: 0.153968 \tTraining Accuracy: 0.950445 \tValidation Loss: 0.151047 \tValidation Accuracy: 0.944162\n",
            "Epoch: 32 \tTraining Loss: 0.147748 \tTraining Accuracy: 0.946633 \tValidation Loss: 0.149422 \tValidation Accuracy: 0.944162\n",
            "Epoch: 33 \tTraining Loss: 0.151464 \tTraining Accuracy: 0.947903 \tValidation Loss: 0.149390 \tValidation Accuracy: 0.944162\n",
            "Epoch: 34 \tTraining Loss: 0.143292 \tTraining Accuracy: 0.955527 \tValidation Loss: 0.149143 \tValidation Accuracy: 0.949239\n",
            "Epoch: 35 \tTraining Loss: 0.146712 \tTraining Accuracy: 0.946633 \tValidation Loss: 0.150257 \tValidation Accuracy: 0.944162\n",
            "Epoch: 36 \tTraining Loss: 0.150830 \tTraining Accuracy: 0.946633 \tValidation Loss: 0.150971 \tValidation Accuracy: 0.944162\n",
            "Epoch: 37 \tTraining Loss: 0.133946 \tTraining Accuracy: 0.954257 \tValidation Loss: 0.150585 \tValidation Accuracy: 0.944162\n",
            "Epoch: 38 \tTraining Loss: 0.144397 \tTraining Accuracy: 0.947903 \tValidation Loss: 0.150709 \tValidation Accuracy: 0.949239\n",
            "Epoch: 39 \tTraining Loss: 0.149357 \tTraining Accuracy: 0.950445 \tValidation Loss: 0.152540 \tValidation Accuracy: 0.944162\n",
            "Epoch: 40 \tTraining Loss: 0.140090 \tTraining Accuracy: 0.947903 \tValidation Loss: 0.155867 \tValidation Accuracy: 0.939086\n",
            "Epoch: 41 \tTraining Loss: 0.138948 \tTraining Accuracy: 0.947903 \tValidation Loss: 0.155626 \tValidation Accuracy: 0.939086\n",
            "Epoch: 42 \tTraining Loss: 0.143833 \tTraining Accuracy: 0.942821 \tValidation Loss: 0.152476 \tValidation Accuracy: 0.939086\n",
            "Epoch: 43 \tTraining Loss: 0.131075 \tTraining Accuracy: 0.952986 \tValidation Loss: 0.148611 \tValidation Accuracy: 0.944162\n",
            "Epoch: 44 \tTraining Loss: 0.143211 \tTraining Accuracy: 0.950445 \tValidation Loss: 0.147152 \tValidation Accuracy: 0.949239\n",
            "Epoch: 45 \tTraining Loss: 0.142406 \tTraining Accuracy: 0.952986 \tValidation Loss: 0.147232 \tValidation Accuracy: 0.944162\n",
            "Epoch: 46 \tTraining Loss: 0.118803 \tTraining Accuracy: 0.958069 \tValidation Loss: 0.146622 \tValidation Accuracy: 0.944162\n",
            "Epoch: 47 \tTraining Loss: 0.129698 \tTraining Accuracy: 0.956798 \tValidation Loss: 0.144915 \tValidation Accuracy: 0.944162\n",
            "Epoch: 48 \tTraining Loss: 0.129099 \tTraining Accuracy: 0.951715 \tValidation Loss: 0.144474 \tValidation Accuracy: 0.944162\n",
            "Epoch: 49 \tTraining Loss: 0.135791 \tTraining Accuracy: 0.949174 \tValidation Loss: 0.143663 \tValidation Accuracy: 0.949239\n",
            "Epoch: 50 \tTraining Loss: 0.139171 \tTraining Accuracy: 0.949174 \tValidation Loss: 0.143666 \tValidation Accuracy: 0.954315\n"
          ]
        }
      ],
      "source": [
        "def train(model, train_loader, val_loader, criterion, optimizer, num_epochs):\n",
        "    train_loss_history = []\n",
        "    val_loss_history = []\n",
        "    train_acc_history = []\n",
        "    val_acc_history = []\n",
        "\n",
        "    for epoch in range(num_epochs):\n",
        "        train_loss = 0.0\n",
        "        val_loss = 0.0\n",
        "        train_correct = 0\n",
        "        val_correct = 0\n",
        "\n",
        "        model.train()\n",
        "        for data, target in train_loader:\n",
        "            optimizer.zero_grad()\n",
        "            output = model(data)\n",
        "            loss = criterion(output, target.view(-1, 1))\n",
        "            loss.backward()\n",
        "            optimizer.step()\n",
        "            train_loss += loss.item() * data.size(0)\n",
        "            train_pred = torch.round(output)\n",
        "            train_correct += (train_pred == target.view(-1, 1)).sum().item()\n",
        "\n",
        "        model.eval()\n",
        "        with torch.no_grad():\n",
        "            for data, target in val_loader:\n",
        "                output = model(data)\n",
        "                loss = criterion(output, target.view(-1, 1))\n",
        "                val_loss += loss.item() * data.size(0)\n",
        "                val_pred = torch.round(output)\n",
        "                val_correct += (val_pred == target.view(-1, 1)).sum().item()\n",
        "\n",
        "        train_loss = train_loss / len(train_loader.dataset)\n",
        "        val_loss = val_loss / len(val_loader.dataset)\n",
        "        train_acc = train_correct / len(train_loader.dataset)\n",
        "        val_acc = val_correct / len(val_loader.dataset)\n",
        "\n",
        "        train_loss_history.append(train_loss)\n",
        "        val_loss_history.append(val_loss)\n",
        "        train_acc_history.append(train_acc)\n",
        "        val_acc_history.append(val_acc)\n",
        "\n",
        "        print('Epoch: {} \\tTraining Loss: {:.6f} \\tTraining Accuracy: {:.6f} \\tValidation Loss: {:.6f} \\tValidation Accuracy: {:.6f}'.format(epoch+1, train_loss, train_acc, val_loss, val_acc))\n",
        "\n",
        "    return train_loss_history, val_loss_history, train_acc_history, val_acc_history\n",
        "\n",
        "train_loss_history, val_loss_history, train_acc_history, val_acc_history = train(model, train_loader, val_loader, criterion, optimizer, num_epochs=50)"
      ]
    },
    {
      "cell_type": "markdown",
      "metadata": {
        "id": "cnTbWzNFspny"
      },
      "source": [
        ">I have added two additional lists to track the training and validation accuracy over the training process. I have also modified the training loop to calculate the number of correct predictions and use it to calculate the accuracy of the model on each epoch."
      ]
    },
    {
      "cell_type": "markdown",
      "metadata": {
        "id": "Q9vDzayotbpC"
      },
      "source": [
        ">A) plotting the training and validation loss"
      ]
    },
    {
      "cell_type": "code",
      "execution_count": 20,
      "metadata": {
        "colab": {
          "base_uri": "https://localhost:8080/",
          "height": 282
        },
        "id": "h_mdmX4Etffg",
        "outputId": "28d861b0-ba1d-4bc8-8649-550913fa33c8"
      },
      "outputs": [
        {
          "data": {
            "image/png": "[encoded data removed]",
            "text/plain": [
              "<Figure size 432x288 with 1 Axes>"
            ]
          },
          "metadata": {
            "needs_background": "light"
          },
          "output_type": "display_data"
        }
      ],
      "source": [
        "import matplotlib.pyplot as plt\n",
        "\n",
        "plt.plot(train_loss_history, label='Training Loss')\n",
        "plt.plot(val_loss_history, label='Validation Loss')\n",
        "plt.legend(frameon=False)\n",
        "plt.xlabel('Epoch')\n",
        "plt.ylabel('Loss')\n",
        "plt.show()"
      ]
    },
    {
      "cell_type": "markdown",
      "metadata": {
        "id": "Six3O5fNtn39"
      },
      "source": [
        "here, I can see that the training loss and validation loss decrease over the course of the training process, indicating that the model is learning to classify credit card transactions as fraudulent or not. The training and validation loss are similar, indicating that the model is not overfitting to the training data."
      ]
    },
    {
      "cell_type": "markdown",
      "metadata": {
        "id": "tOIyZKlhtIjv"
      },
      "source": [
        ">B) plotting the training and validation accuracy"
      ]
    },
    {
      "cell_type": "code",
      "execution_count": 19,
      "metadata": {
        "colab": {
          "base_uri": "https://localhost:8080/",
          "height": 279
        },
        "id": "m9RhKRWOq1co",
        "outputId": "457d3366-a717-4d5e-b8ae-845c282a2f59"
      },
      "outputs": [
        {
          "data": {
            "image/png": "[encoded data removed]",
            "text/plain": [
              "<Figure size 432x288 with 1 Axes>"
            ]
          },
          "metadata": {
            "needs_background": "light"
          },
          "output_type": "display_data"
        }
      ],
      "source": [
        "plt.plot(train_acc_history, label='Training Accuracy')\n",
        "plt.plot(val_acc_history, label='Validation Accuracy')\n",
        "plt.legend(frameon=False)\n",
        "plt.xlabel('Epoch')\n",
        "plt.ylabel('Accuracy')\n",
        "plt.show()"
      ]
    },
    {
      "cell_type": "markdown",
      "metadata": {
        "id": "Y8aD5ilMtX2v"
      },
      "source": [
        " >>the training and validation accuracy both increase over the course of the training process, indicating that the model is learning to classify credit card transactions as fraudulent or not with increasing accuracy. The training and validation accuracy are similar, indicating that the model is not overfitting to the training data."
      ]
    },
    {
      "cell_type": "markdown",
      "metadata": {
        "id": "8V_KjIJLuxFY"
      },
      "source": [
        "##3) Conclusion\n",
        "\n",
        "Based on the plotted training and validation loss and accuracy, we can see that the model is learning and improving during training, with the both the loss and accuracy improving over time. The validation loss and accuracy also show that the model is not overfitting to the training data, as they are improving along with the training metrics. This suggests that the model is generalizing well to unseen data. However, we should also note that there is still some room for improvement, as the validation accuracy has not yet stabilisied and could potentially improve with further training or hyperparameter tuning.\n"
      ]
    },
    {
      "cell_type": "markdown",
      "metadata": {
        "id": "5NE2iYFavvSZ"
      },
      "source": [
        "References:\n",
        "\n",
        "1.   https://pytorch.org/docs/stable/index.htmlst\n",
        "2.   https://pytorch.org/tutorials/\n",
        "3.   https://towardsdatascience.com/building-neural-network-using-pytorch-84f6e75f9a\n",
        "\n"
      ]
    }
  ],
  "metadata": {
    "colab": {
      "collapsed_sections": [
        "AtJ15xLVuE7S",
        "5Xbf9AccplhZ"
      ],
      "provenance": []
    },
    "kernelspec": {
      "display_name": "Python 3",
      "name": "python3"
    },
    "language_info": {
      "name": "python"
    }
  },
  "nbformat": 4,
  "nbformat_minor": 0
}
